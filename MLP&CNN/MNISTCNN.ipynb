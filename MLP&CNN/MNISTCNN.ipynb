{
  "cells": [
    {
      "cell_type": "markdown",
      "metadata": {
        "id": "JmeTNIkv_U3J"
      },
      "source": [
        "# Simple CNN for MNIST\n"
      ]
    },
    {
      "cell_type": "markdown",
      "metadata": {
        "id": "D-xWqYId_U3M"
      },
      "source": [
        "## Setup"
      ]
    },
    {
      "cell_type": "code",
      "execution_count": 1,
      "metadata": {
        "id": "Fx2kxhdh_U3N"
      },
      "outputs": [],
      "source": [
        "import numpy as np\n",
        "from tensorflow import keras\n",
        "from tensorflow.keras import layers"
      ]
    },
    {
      "cell_type": "markdown",
      "metadata": {
        "id": "dq6m6gFl_U3O"
      },
      "source": [
        "## Prepare the data"
      ]
    },
    {
      "cell_type": "code",
      "execution_count": 2,
      "metadata": {
        "id": "50ZpbPVg_U3O",
        "colab": {
          "base_uri": "https://localhost:8080/"
        },
        "outputId": "4a667098-952b-47af-e45c-541ef3ac05c3"
      },
      "outputs": [
        {
          "output_type": "stream",
          "name": "stdout",
          "text": [
            "Downloading data from https://storage.googleapis.com/tensorflow/tf-keras-datasets/mnist.npz\n",
            "11490434/11490434 [==============================] - 0s 0us/step\n",
            "x_train shape: (60000, 28, 28, 1)\n",
            "60000 train samples\n",
            "10000 test samples\n"
          ]
        }
      ],
      "source": [
        "# Model / data parameters\n",
        "num_classes = 10\n",
        "input_shape = (28, 28, 1)\n",
        "\n",
        "# Load the data and split it between train and test sets\n",
        "(x_train, y_train), (x_test, y_test) = keras.datasets.mnist.load_data()\n",
        "\n",
        "# Scale images to the [0, 1] range\n",
        "x_train = x_train.astype(\"float32\") / 255\n",
        "x_test = x_test.astype(\"float32\") / 255\n",
        "# Make sure images have shape (28, 28, 1)\n",
        "x_train = np.expand_dims(x_train, -1)\n",
        "x_test = np.expand_dims(x_test, -1)\n",
        "print(\"x_train shape:\", x_train.shape)\n",
        "print(x_train.shape[0], \"train samples\")\n",
        "print(x_test.shape[0], \"test samples\")\n",
        "\n",
        "\n",
        "# convert class vectors to binary class matrices\n",
        "y_train = keras.utils.to_categorical(y_train, num_classes)\n",
        "y_test = keras.utils.to_categorical(y_test, num_classes)"
      ]
    },
    {
      "cell_type": "markdown",
      "metadata": {
        "id": "cMBBjbgD_U3P"
      },
      "source": [
        "## Build the model"
      ]
    },
    {
      "cell_type": "code",
      "execution_count": 3,
      "metadata": {
        "id": "iBoQzBB9_U3Q",
        "colab": {
          "base_uri": "https://localhost:8080/"
        },
        "outputId": "dc81488c-f51c-492e-a9b4-67a83bca5c5a"
      },
      "outputs": [
        {
          "output_type": "stream",
          "name": "stdout",
          "text": [
            "Model: \"sequential\"\n",
            "_________________________________________________________________\n",
            " Layer (type)                Output Shape              Param #   \n",
            "=================================================================\n",
            " conv2d (Conv2D)             (None, 26, 26, 8)         80        \n",
            "                                                                 \n",
            " max_pooling2d (MaxPooling2  (None, 13, 13, 8)         0         \n",
            " D)                                                              \n",
            "                                                                 \n",
            " conv2d_1 (Conv2D)           (None, 11, 11, 16)        1168      \n",
            "                                                                 \n",
            " max_pooling2d_1 (MaxPoolin  (None, 5, 5, 16)          0         \n",
            " g2D)                                                            \n",
            "                                                                 \n",
            " flatten (Flatten)           (None, 400)               0         \n",
            "                                                                 \n",
            " dropout (Dropout)           (None, 400)               0         \n",
            "                                                                 \n",
            " dense (Dense)               (None, 10)                4010      \n",
            "                                                                 \n",
            "=================================================================\n",
            "Total params: 5258 (20.54 KB)\n",
            "Trainable params: 5258 (20.54 KB)\n",
            "Non-trainable params: 0 (0.00 Byte)\n",
            "_________________________________________________________________\n"
          ]
        }
      ],
      "source": [
        "model = keras.Sequential(\n",
        "    [\n",
        "        # To-do\n",
        "        keras.Input(shape=input_shape),  # Define the input shape of the model\n",
        "        # Add a convolutional layer with 8 filters and ReLU activation\n",
        "        layers.Conv2D(8, kernel_size=(3, 3), activation=\"relu\"),\n",
        "        # Add a max pooling layer with pool size 2x2\n",
        "        layers.MaxPooling2D(pool_size=(2, 2)),\n",
        "        # Add another convolutional layer with 16 filters and ReLU activation\n",
        "        layers.Conv2D(16, kernel_size=(3, 3), activation=\"relu\"),\n",
        "        # Add another max pooling layer with pool size 2x2\n",
        "        layers.MaxPooling2D(pool_size=(2, 2)),\n",
        "        # Flatten the 2D feature maps into a 1D vector\n",
        "        layers.Flatten(),\n",
        "        # Apply dropout regularization with a rate of 0.5\n",
        "        layers.Dropout(0.5),\n",
        "        # Add a dense (fully connected) layer with softmax activation for classification\n",
        "        layers.Dense(num_classes, activation=\"softmax\"),\n",
        "    ]\n",
        ")\n",
        "\n",
        "model.summary()\n"
      ]
    },
    {
      "cell_type": "markdown",
      "metadata": {
        "id": "3_cFZMbv_U3Q"
      },
      "source": [
        "## Train the model"
      ]
    },
    {
      "cell_type": "code",
      "execution_count": 4,
      "metadata": {
        "id": "96th78xc_U3R",
        "colab": {
          "base_uri": "https://localhost:8080/"
        },
        "outputId": "0fe0c4d8-23ab-4eed-d9d9-631eb20533e3"
      },
      "outputs": [
        {
          "output_type": "stream",
          "name": "stdout",
          "text": [
            "Epoch 1/15\n",
            "422/422 [==============================] - 8s 5ms/step - loss: 0.7556 - accuracy: 0.7549 - val_loss: 0.1636 - val_accuracy: 0.9587\n",
            "Epoch 2/15\n",
            "422/422 [==============================] - 2s 4ms/step - loss: 0.2573 - accuracy: 0.9232 - val_loss: 0.1089 - val_accuracy: 0.9715\n",
            "Epoch 3/15\n",
            "422/422 [==============================] - 2s 5ms/step - loss: 0.1991 - accuracy: 0.9392 - val_loss: 0.0852 - val_accuracy: 0.9770\n",
            "Epoch 4/15\n",
            "422/422 [==============================] - 2s 4ms/step - loss: 0.1703 - accuracy: 0.9492 - val_loss: 0.0748 - val_accuracy: 0.9803\n",
            "Epoch 5/15\n",
            "422/422 [==============================] - 2s 4ms/step - loss: 0.1535 - accuracy: 0.9528 - val_loss: 0.0656 - val_accuracy: 0.9830\n",
            "Epoch 6/15\n",
            "422/422 [==============================] - 3s 6ms/step - loss: 0.1438 - accuracy: 0.9560 - val_loss: 0.0634 - val_accuracy: 0.9830\n",
            "Epoch 7/15\n",
            "422/422 [==============================] - 2s 4ms/step - loss: 0.1367 - accuracy: 0.9585 - val_loss: 0.0603 - val_accuracy: 0.9835\n",
            "Epoch 8/15\n",
            "422/422 [==============================] - 2s 4ms/step - loss: 0.1281 - accuracy: 0.9605 - val_loss: 0.0534 - val_accuracy: 0.9862\n",
            "Epoch 9/15\n",
            "422/422 [==============================] - 2s 4ms/step - loss: 0.1231 - accuracy: 0.9618 - val_loss: 0.0516 - val_accuracy: 0.9860\n",
            "Epoch 10/15\n",
            "422/422 [==============================] - 2s 4ms/step - loss: 0.1204 - accuracy: 0.9634 - val_loss: 0.0509 - val_accuracy: 0.9862\n",
            "Epoch 11/15\n",
            "422/422 [==============================] - 2s 4ms/step - loss: 0.1154 - accuracy: 0.9646 - val_loss: 0.0496 - val_accuracy: 0.9865\n",
            "Epoch 12/15\n",
            "422/422 [==============================] - 2s 6ms/step - loss: 0.1119 - accuracy: 0.9658 - val_loss: 0.0486 - val_accuracy: 0.9875\n",
            "Epoch 13/15\n",
            "422/422 [==============================] - 2s 5ms/step - loss: 0.1077 - accuracy: 0.9666 - val_loss: 0.0475 - val_accuracy: 0.9875\n",
            "Epoch 14/15\n",
            "422/422 [==============================] - 2s 4ms/step - loss: 0.1073 - accuracy: 0.9671 - val_loss: 0.0472 - val_accuracy: 0.9882\n",
            "Epoch 15/15\n",
            "422/422 [==============================] - 2s 4ms/step - loss: 0.1053 - accuracy: 0.9674 - val_loss: 0.0472 - val_accuracy: 0.9870\n"
          ]
        },
        {
          "output_type": "execute_result",
          "data": {
            "text/plain": [
              "<keras.src.callbacks.History at 0x7c3a225002e0>"
            ]
          },
          "metadata": {},
          "execution_count": 4
        }
      ],
      "source": [
        "batch_size = 128  # Number of samples per gradient update\n",
        "epochs = 15  # Number of times to iterate over the entire training dataset\n",
        "\n",
        "# Configure the model for training\n",
        "model.compile(loss=\"categorical_crossentropy\", optimizer=\"adam\", metrics=[\"accuracy\"])\n",
        "\n",
        "# Train the model on the training data\n",
        "model.fit(x_train, y_train, batch_size=batch_size, epochs=epochs, validation_split=0.1)\n",
        "# x_train: input training data\n",
        "# y_train: target training data\n",
        "# batch_size: number of samples per gradient update\n",
        "# epochs: number of times to iterate over the entire training dataset\n",
        "# validation_split: the fraction of the training data to be used as validation data during training\n"
      ]
    },
    {
      "cell_type": "markdown",
      "metadata": {
        "id": "mN_ag1mj_U3R"
      },
      "source": [
        "## Evaluate the trained model"
      ]
    },
    {
      "cell_type": "code",
      "execution_count": 5,
      "metadata": {
        "id": "0DyaKNs9_U3S",
        "colab": {
          "base_uri": "https://localhost:8080/"
        },
        "outputId": "fa92c6f6-faea-463a-b8d0-1c7f9dac9339"
      },
      "outputs": [
        {
          "output_type": "stream",
          "name": "stdout",
          "text": [
            "Test accuracy: 0.9850999712944031\n"
          ]
        }
      ],
      "source": [
        "score = model.evaluate(x_test, y_test, verbose=0)\n",
        "print(\"Test accuracy:\", score[1])"
      ]
    },
    {
      "cell_type": "code",
      "source": [],
      "metadata": {
        "id": "wH-7PynmKxDX"
      },
      "execution_count": null,
      "outputs": []
    }
  ],
  "metadata": {
    "accelerator": "GPU",
    "colab": {
      "provenance": [],
      "gpuType": "T4"
    },
    "kernelspec": {
      "display_name": "Python 3",
      "language": "python",
      "name": "python3"
    },
    "language_info": {
      "codemirror_mode": {
        "name": "ipython",
        "version": 3
      },
      "file_extension": ".py",
      "mimetype": "text/x-python",
      "name": "python",
      "nbconvert_exporter": "python",
      "pygments_lexer": "ipython3",
      "version": "3.7.0"
    },
    "gpuClass": "standard"
  },
  "nbformat": 4,
  "nbformat_minor": 0
}