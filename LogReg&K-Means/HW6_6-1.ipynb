{
  "nbformat": 4,
  "nbformat_minor": 0,
  "metadata": {
    "colab": {
      "provenance": []
    },
    "language_info": {
      "codemirror_mode": {
        "name": "ipython",
        "version": 3
      },
      "file_extension": ".py",
      "mimetype": "text/x-python",
      "name": "python",
      "nbconvert_exporter": "python",
      "pygments_lexer": "ipython3",
      "version": "3.5.5"
    },
    "kernelspec": {
      "display_name": "Python 3",
      "language": "python",
      "name": "python3"
    }
  },
  "cells": [
    {
      "cell_type": "markdown",
      "metadata": {
        "id": "VGDKqNGv1Rtx"
      },
      "source": [
        "# Logistic Regression\n",
        "\n",
        "You will implement logistic regression classifier.\n",
        "\n",
        "Iris dataset with only 2 classes is provided to test the code.\n"
      ]
    },
    {
      "cell_type": "code",
      "metadata": {
        "id": "alBxk8lq1Rt4",
        "colab": {
          "base_uri": "https://localhost:8080/"
        },
        "outputId": "17f4893a-736d-4332-e4dd-b5631f33bfd2"
      },
      "source": [
        "import numpy as np\n",
        "import pandas as pd\n",
        "import numpy.matlib\n",
        "import matplotlib.pyplot as plt\n",
        "\n",
        "# read dataset\n",
        "df = pd.read_csv(\"shuffled_2class_iris_dataset.csv\")\n",
        "print(df.head())\n",
        "\n",
        "df = df.values\n",
        "X = df[:,0:4]   # 100x4\n",
        "y = df[:,4]     # 100x1\n"
      ],
      "execution_count": null,
      "outputs": [
        {
          "output_type": "stream",
          "name": "stdout",
          "text": [
            "   sepal_width  sepal_length  petal_width  petal_length  class\n",
            "0          5.6           3.0          4.1           1.3      0\n",
            "1          5.4           3.9          1.7           0.4      1\n",
            "2          5.6           3.0          4.5           1.5      0\n",
            "3          5.0           3.5          1.6           0.6      1\n",
            "4          5.5           2.4          3.7           1.0      0\n"
          ]
        }
      ]
    },
    {
      "cell_type": "code",
      "metadata": {
        "id": "uCmn7QBC1Rue",
        "scrolled": true
      },
      "source": [
        "# Zero out the mean\n",
        "diff = X.max(0) - X.min(0)\n",
        "X = X - diff\n",
        "\n",
        "# Create 90/10 trainig/test sets\n",
        "train_data = X[0:90,0:4]; train_label = y[0:90]\n",
        "test_data = X[90:100,0:4]; test_label = y[90:100]\n",
        "\n",
        "zz = np.ones((len(test_data),1))\n",
        "test_data = np.concatenate((zz,test_data), axis=1)  # 90x5\n",
        "# test_data = 10x5, the first column is all 1's\n",
        "#   1st feature of the first observation (1st row, 1st column): test_data[0,1]\n",
        "#   4th feature of the second observation (2nd row, 3th column): test_data[1,4]\n",
        "\n",
        "np.random.seed(1)"
      ],
      "execution_count": null,
      "outputs": []
    },
    {
      "cell_type": "markdown",
      "metadata": {
        "id": "XyMKJ1us1Ruv"
      },
      "source": [
        "### Training"
      ]
    },
    {
      "cell_type": "code",
      "metadata": {
        "id": "uw7RwLKT1Ruy",
        "colab": {
          "base_uri": "https://localhost:8080/",
          "height": 449
        },
        "outputId": "41552df7-de52-4725-cbb6-c76467b5b280"
      },
      "source": [
        "# Use batch gradient descent to find the optimal weights of the sigmoid function\n",
        "\n",
        "# Define the sigmoid function using numpy.exp\n",
        "def sigmoid(t):\n",
        "  # To-do\n",
        "  # Compute the p given t\n",
        "  p=1/(1+(np.exp(-t)))\n",
        "  return (p)\n",
        "\n",
        "# Define the logistic regression inference function\n",
        "# It takes in a weight vector and a feature vector\n",
        "def lr_inferencing(w_vec, x_vec):\n",
        "  # To-do\n",
        "  # Compute the dot product of the weight and feature vectors\n",
        "  dot_product = np.dot(w_vec, x_vec)\n",
        "  # Pass the dot product through the sigmoid function\n",
        "  predicted_y = sigmoid(dot_product)\n",
        "  # Return the predicted label (a value between 0 and 1)\n",
        "  return predicted_y\n",
        "\n",
        "# Train the model using the training data\n",
        "\n",
        "# Initialization\n",
        "alpha = 0.01\n",
        "MAX_EPOCHS = 1500\n",
        "cost_history = []\n",
        "\n",
        "# Initialization of X_train and y_train\n",
        "zz = np.ones((len(train_data),1))\n",
        "X_train = np.concatenate((zz,train_data), axis=1)  # 90x5\n",
        "#   X_train is 90x5; the first column is all 1's\n",
        "#     1st feature of the first observation (1st row, 2nd column): X_train[0,1]\n",
        "#     4th feature of the second observation (2nd row, 4th column): X_train[1,4]\n",
        "y_train = train_label.reshape(len(train_label),1)  # 90x1\n",
        "#   y_train is 90x1\n",
        "#     the label of the first observation (1st row): y_train[0]\n",
        "#     the label of the seventh observation (7th row): y_train[6]\n",
        "\n",
        "# Initialization of weight_vector\n",
        "w_vec = np.random.rand(5)\n",
        "\n",
        "# Loop for 1500 epochs\n",
        "for itr in range (MAX_EPOCHS):\n",
        "\n",
        "    # Initialize gradient and cost to 0\n",
        "    gradient = np.zeros(5)\n",
        "    cost = 0\n",
        "\n",
        "    # Loop over the training data\n",
        "    for i in range(len(X_train)):\n",
        "        # Extract the features and label for the current training example\n",
        "        x_vec=X_train[i][0:5]\n",
        "        y=y_train[i]\n",
        "\n",
        "        # To-Do\n",
        "        # Use the current weights to predict the label for this example\n",
        "        y_pred = lr_inferencing(w_vec,x_vec)\n",
        "        # Compute the gradient for this example and add it to the running total\n",
        "        gradient += np.multiply((y_pred-y),x_vec)\n",
        "        # Compute the cost for this example and add it to the running total\n",
        "        cost += -y*np.log(y_pred) - (1-y)*np.log(1-y_pred)\n",
        "\n",
        "    # To-Do\n",
        "    # Update the weights using the learning rate and the gradient\n",
        "    w_vec -= np.multiply(alpha, gradient)\n",
        "\n",
        "    # Collect the cost function result from each epoch to generate a plot\n",
        "    # Append the current cost to the history of costs\n",
        "    cost_history.append(cost) # 1500x1\n",
        "\n",
        "# Plot cost function vs iterations\n",
        "plt.plot(cost_history)\n",
        "plt.xlabel('Epochs')\n",
        "plt.ylabel('Error')\n",
        "plt.show()"
      ],
      "execution_count": null,
      "outputs": [
        {
          "output_type": "display_data",
          "data": {
            "text/plain": [
              "<Figure size 640x480 with 1 Axes>"
            ],
            "image/png": "[encoded data removed]"
          },
          "metadata": {}
        }
      ]
    },
    {
      "cell_type": "markdown",
      "metadata": {
        "id": "wrLm9qlX1RvE"
      },
      "source": [
        "### Testing"
      ]
    },
    {
      "cell_type": "code",
      "metadata": {
        "id": "cJ3Z1ZHY1RvH",
        "colab": {
          "base_uri": "https://localhost:8080/"
        },
        "outputId": "007c44cd-3e4b-43ec-b3e7-7d280f0ca79a"
      },
      "source": [
        "# Now use the test set to test the model\n",
        "\n",
        "# Print the actual and predicted class labels\n",
        "# Print the average accuracy\n",
        "\n",
        "correct_class_cnt = 0\n",
        "for i in range (len(test_data)):\n",
        "\n",
        "    # To-do:\n",
        "    # Compute the probability for each test data and optimal weights\n",
        "    # Find the predicted label y_hat based on threshold = 0.5\n",
        "    y_pred = lr_inferencing(w_vec, test_data[i])\n",
        "    y_hat = 0.0 if y_pred < 0.5 else 1.0\n",
        "\n",
        "    # Check accuracy\n",
        "    # print('y={}, y_hat={}'.format(test_label[i], y_hat))\n",
        "    if (y_hat == test_label[i]):\n",
        "        correct_class_cnt += 1\n",
        "\n",
        "print('Average accuracy = {0:2f}'.format(correct_class_cnt/10))\n"
      ],
      "execution_count": null,
      "outputs": [
        {
          "output_type": "stream",
          "name": "stdout",
          "text": [
            "Average accuracy = 1.000000\n"
          ]
        }
      ]
    },
    {
      "cell_type": "markdown",
      "metadata": {
        "collapsed": true,
        "id": "IGDft1gb1RvW"
      },
      "source": [
        "Caution: accuracy may change drastically because of overfitting (data set too small)"
      ]
    },
    {
      "cell_type": "code",
      "metadata": {
        "id": "JUhU1bEY1Rva",
        "colab": {
          "base_uri": "https://localhost:8080/"
        },
        "outputId": "644d3f47-a16a-4d38-ad69-d257f73a9e87"
      },
      "source": [
        "# Print the optimal weights\n",
        "print(w_vec)"
      ],
      "execution_count": null,
      "outputs": [
        {
          "output_type": "stream",
          "name": "stdout",
          "text": [
            "[-1.03108688 -3.56294114  2.58115678 -4.58617494 -1.5198854 ]\n"
          ]
        }
      ]
    }
  ]
}